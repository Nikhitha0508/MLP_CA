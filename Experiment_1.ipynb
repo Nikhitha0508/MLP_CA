{
  "nbformat": 4,
  "nbformat_minor": 0,
  "metadata": {
    "colab": {
      "provenance": []
    },
    "kernelspec": {
      "name": "python3",
      "display_name": "Python 3"
    },
    "language_info": {
      "name": "python"
    }
  },
  "cells": [
    {
      "cell_type": "markdown",
      "source": [
        "**1)   Write a program to perform matrix the basic matrix operations like:\n",
        "addition,subtraction,multiplication,inversion,transpose**"
      ],
      "metadata": {
        "id": "H_YNqhRp28v3"
      }
    },
    {
      "cell_type": "code",
      "source": [
        "\n",
        "\n",
        "import numpy as np\n",
        "\n",
        "def read_matrix(rows, cols):\n",
        "    matrix = []\n",
        "    print(f\"Enter the elements of the matrix ({rows}x{cols}):\")\n",
        "    for _ in range(rows):\n",
        "        row = [int(x) for x in input().split()]\n",
        "        if len(row) != cols:\n",
        "            raise ValueError(\"Invalid number of columns!\")\n",
        "        matrix.append(row)\n",
        "    return matrix\n",
        "\n",
        "def print_matrix(matrix):\n",
        "    for row in matrix:\n",
        "        print(\" \".join(str(x) for x in row))\n",
        "\n",
        "# Read matrix dimensions from the user\n",
        "rows = int(input(\"Enter the number of rows: \"))\n",
        "cols = int(input(\"Enter the number of columns: \"))\n",
        "\n",
        "# Read matrices from the user\n",
        "matrix1 = read_matrix(rows, cols)\n",
        "matrix2 = read_matrix(rows, cols)\n",
        "\n",
        "# Perform matrix operations\n",
        "add_result = np.add(matrix1,matrix2)\n",
        "sub_result = np.subtract(matrix1, matrix2)\n",
        "mul_result = np.dot(matrix1, matrix2)\n",
        "transpose_result = np.transpose(matrix1)\n",
        "inverse_result = np.linalg.inv(matrix1)\n",
        "\n",
        "# Print the results\n",
        "print(\"\\nMatrix Addition:\")\n",
        "print_matrix(add_result)\n",
        "\n",
        "print(\"\\nMatrix Subtraction:\")\n",
        "print_matrix(sub_result)\n",
        "\n",
        "print(\"\\nMatrix Multiplication:\")\n",
        "print_matrix(mul_result)\n",
        "\n",
        "print(\"\\nMatrix Transpose:\")\n",
        "print_matrix(transpose_result)\n",
        "\n",
        "print(\"\\nMatrix Inverse:\")\n",
        "print_matrix(inverse_result)"
      ],
      "metadata": {
        "id": "CXC67lAr3PNV"
      },
      "execution_count": null,
      "outputs": []
    }
  ]
}