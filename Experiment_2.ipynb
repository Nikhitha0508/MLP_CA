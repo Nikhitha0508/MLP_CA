{
  "nbformat": 4,
  "nbformat_minor": 0,
  "metadata": {
    "colab": {
      "provenance": []
    },
    "kernelspec": {
      "name": "python3",
      "display_name": "Python 3"
    },
    "language_info": {
      "name": "python"
    }
  },
  "cells": [
    {
      "cell_type": "markdown",
      "source": [
        "2)  Write a Program to find minimum & maximum elements of the matrix, trace, rank, eigenvalues, and eigenvectors of the given matrix."
      ],
      "metadata": {
        "id": "MHu3jyMj4gEj"
      }
    },
    {
      "cell_type": "code",
      "source": [
        "import numpy as np\n",
        "def matrix_operations(matrix):\n",
        " min_element = np.min(matrix)\n",
        " max_element = np.max(matrix)\n",
        " print(\"Minimum element:\", min_element)\n",
        " print(\"Maximum element:\", max_element)\n",
        " trace = np.trace(matrix)\n",
        " print(\"Trace:\", trace)\n",
        " rank = np.linalg.matrix_rank(matrix)\n",
        " print(\"Rank:\", rank)\n",
        " eigenvalues, eigenvectors = np.linalg.eig(matrix)\n",
        " print(\"Eigenvalues:\", eigenvalues)\n",
        " print(\"Eigenvectors:\", eigenvectors)\n",
        "matrix = np.array([[1, 2, 3], [4, 5, 6], [7, 8, 9]])\n",
        "matrix_operations(matrix)\n"
      ],
      "metadata": {
        "id": "sBZZs29A4iB6"
      },
      "execution_count": null,
      "outputs": []
    }
  ]
}